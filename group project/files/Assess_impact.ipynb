{
 "cells": [
  {
   "cell_type": "markdown",
   "id": "34df9710",
   "metadata": {},
   "source": [
    "# Assess the impact of the pandemic on the city-bike usage"
   ]
  },
  {
   "cell_type": "markdown",
   "id": "7d3a2a93",
   "metadata": {},
   "source": [
    "## Import pre-processed subset of data"
   ]
  },
  {
   "cell_type": "code",
   "execution_count": 1,
   "id": "66d51d79",
   "metadata": {},
   "outputs": [],
   "source": [
    "%matplotlib inline\n",
    "import numpy as np\n",
    "import pandas as pd\n",
    "import matplotlib.pyplot as plt\n",
    "import seaborn as sns "
   ]
  },
  {
   "cell_type": "code",
   "execution_count": 18,
   "id": "d3fb7f1a",
   "metadata": {
    "scrolled": true
   },
   "outputs": [
    {
     "data": {
      "text/html": [
       "<div>\n",
       "<style scoped>\n",
       "    .dataframe tbody tr th:only-of-type {\n",
       "        vertical-align: middle;\n",
       "    }\n",
       "\n",
       "    .dataframe tbody tr th {\n",
       "        vertical-align: top;\n",
       "    }\n",
       "\n",
       "    .dataframe thead th {\n",
       "        text-align: right;\n",
       "    }\n",
       "</style>\n",
       "<table border=\"1\" class=\"dataframe\">\n",
       "  <thead>\n",
       "    <tr style=\"text-align: right;\">\n",
       "      <th></th>\n",
       "      <th>STATION.ID</th>\n",
       "      <th>TIME</th>\n",
       "      <th>LAST.UPDATED</th>\n",
       "      <th>NAME</th>\n",
       "      <th>BIKE.STANDS</th>\n",
       "      <th>AVAILABLE.BIKE.STANDS</th>\n",
       "      <th>AVAILABLE.BIKES</th>\n",
       "      <th>STATUS</th>\n",
       "      <th>ADDRESS</th>\n",
       "      <th>LATITUDE</th>\n",
       "      <th>LONGITUDE</th>\n",
       "      <th>BIKE.USAGE</th>\n",
       "      <th>hour</th>\n",
       "    </tr>\n",
       "  </thead>\n",
       "  <tbody>\n",
       "    <tr>\n",
       "      <th>0</th>\n",
       "      <td>8</td>\n",
       "      <td>2018-08-01 12:30:02</td>\n",
       "      <td>2018-08-01 12:19:01</td>\n",
       "      <td>CUSTOM HOUSE QUAY</td>\n",
       "      <td>30</td>\n",
       "      <td>0</td>\n",
       "      <td>30</td>\n",
       "      <td>Open</td>\n",
       "      <td>Custom House Quay</td>\n",
       "      <td>53.347885</td>\n",
       "      <td>-6.248048</td>\n",
       "      <td>0</td>\n",
       "      <td>2018-08-01 12:00:00</td>\n",
       "    </tr>\n",
       "    <tr>\n",
       "      <th>1</th>\n",
       "      <td>67</td>\n",
       "      <td>2018-08-01 12:30:02</td>\n",
       "      <td>2018-08-01 12:28:00</td>\n",
       "      <td>THE POINT</td>\n",
       "      <td>40</td>\n",
       "      <td>12</td>\n",
       "      <td>28</td>\n",
       "      <td>Open</td>\n",
       "      <td>The Point</td>\n",
       "      <td>53.346867</td>\n",
       "      <td>-6.230852</td>\n",
       "      <td>-2</td>\n",
       "      <td>2018-08-01 12:00:00</td>\n",
       "    </tr>\n",
       "    <tr>\n",
       "      <th>2</th>\n",
       "      <td>69</td>\n",
       "      <td>2018-08-01 12:30:02</td>\n",
       "      <td>2018-08-01 12:27:19</td>\n",
       "      <td>GRAND CANAL DOCK</td>\n",
       "      <td>40</td>\n",
       "      <td>1</td>\n",
       "      <td>39</td>\n",
       "      <td>Open</td>\n",
       "      <td>Grand Canal Dock</td>\n",
       "      <td>53.342636</td>\n",
       "      <td>-6.238695</td>\n",
       "      <td>11</td>\n",
       "      <td>2018-08-01 12:00:00</td>\n",
       "    </tr>\n",
       "    <tr>\n",
       "      <th>3</th>\n",
       "      <td>8</td>\n",
       "      <td>2018-08-01 12:35:02</td>\n",
       "      <td>2018-08-01 12:29:11</td>\n",
       "      <td>CUSTOM HOUSE QUAY</td>\n",
       "      <td>30</td>\n",
       "      <td>0</td>\n",
       "      <td>30</td>\n",
       "      <td>Open</td>\n",
       "      <td>Custom House Quay</td>\n",
       "      <td>53.347885</td>\n",
       "      <td>-6.248048</td>\n",
       "      <td>-9</td>\n",
       "      <td>2018-08-01 12:00:00</td>\n",
       "    </tr>\n",
       "    <tr>\n",
       "      <th>4</th>\n",
       "      <td>67</td>\n",
       "      <td>2018-08-01 12:35:02</td>\n",
       "      <td>2018-08-01 12:28:00</td>\n",
       "      <td>THE POINT</td>\n",
       "      <td>40</td>\n",
       "      <td>12</td>\n",
       "      <td>28</td>\n",
       "      <td>Open</td>\n",
       "      <td>The Point</td>\n",
       "      <td>53.346867</td>\n",
       "      <td>-6.230852</td>\n",
       "      <td>-2</td>\n",
       "      <td>2018-08-01 12:00:00</td>\n",
       "    </tr>\n",
       "  </tbody>\n",
       "</table>\n",
       "</div>"
      ],
      "text/plain": [
       "   STATION.ID                 TIME         LAST.UPDATED               NAME  \\\n",
       "0           8  2018-08-01 12:30:02  2018-08-01 12:19:01  CUSTOM HOUSE QUAY   \n",
       "1          67  2018-08-01 12:30:02  2018-08-01 12:28:00          THE POINT   \n",
       "2          69  2018-08-01 12:30:02  2018-08-01 12:27:19   GRAND CANAL DOCK   \n",
       "3           8  2018-08-01 12:35:02  2018-08-01 12:29:11  CUSTOM HOUSE QUAY   \n",
       "4          67  2018-08-01 12:35:02  2018-08-01 12:28:00          THE POINT   \n",
       "\n",
       "   BIKE.STANDS  AVAILABLE.BIKE.STANDS  AVAILABLE.BIKES STATUS  \\\n",
       "0           30                      0               30   Open   \n",
       "1           40                     12               28   Open   \n",
       "2           40                      1               39   Open   \n",
       "3           30                      0               30   Open   \n",
       "4           40                     12               28   Open   \n",
       "\n",
       "             ADDRESS   LATITUDE  LONGITUDE  BIKE.USAGE                 hour  \n",
       "0  Custom House Quay  53.347885  -6.248048           0  2018-08-01 12:00:00  \n",
       "1          The Point  53.346867  -6.230852          -2  2018-08-01 12:00:00  \n",
       "2   Grand Canal Dock  53.342636  -6.238695          11  2018-08-01 12:00:00  \n",
       "3  Custom House Quay  53.347885  -6.248048          -9  2018-08-01 12:00:00  \n",
       "4          The Point  53.346867  -6.230852          -2  2018-08-01 12:00:00  "
      ]
     },
     "execution_count": 18,
     "metadata": {},
     "output_type": "execute_result"
    }
   ],
   "source": [
    "data = pd.read_csv(\"./data/fullsubset.csv\")\n",
    "data.head()"
   ]
  },
  {
   "cell_type": "code",
   "execution_count": 19,
   "id": "4bc9bb4e",
   "metadata": {},
   "outputs": [
    {
     "data": {
      "text/plain": [
       "Timestamp('2018-08-01 12:30:02')"
      ]
     },
     "execution_count": 19,
     "metadata": {},
     "output_type": "execute_result"
    }
   ],
   "source": [
    "time = pd.to_datetime(data.TIME, format = \"%Y-%m-%d %H:%M:%S\")\n",
    "time[0]"
   ]
  },
  {
   "cell_type": "code",
   "execution_count": 20,
   "id": "648002f1",
   "metadata": {},
   "outputs": [
    {
     "data": {
      "text/plain": [
       "DatetimeIndex(['2018-08-01', '2018-08-01', '2018-08-01', '2018-08-01',\n",
       "               '2018-08-01', '2018-08-01', '2018-08-01', '2018-08-01',\n",
       "               '2018-08-01', '2018-08-01',\n",
       "               ...\n",
       "               '2022-01-01', '2022-01-01', '2022-01-01', '2022-01-01',\n",
       "               '2022-01-01', '2022-01-01', '2022-01-01', '2022-01-01',\n",
       "               '2022-01-01', '2022-01-01'],\n",
       "              dtype='datetime64[ns]', name='TIME', length=1029490, freq=None)"
      ]
     },
     "execution_count": 20,
     "metadata": {},
     "output_type": "execute_result"
    }
   ],
   "source": [
    "date_vector = pd.DatetimeIndex(time.dt.date)\n",
    "date_vector"
   ]
  },
  {
   "cell_type": "code",
   "execution_count": 21,
   "id": "fdaa6d32",
   "metadata": {},
   "outputs": [],
   "source": [
    "usage = data['BIKE.USAGE']"
   ]
  },
  {
   "cell_type": "code",
   "execution_count": 22,
   "id": "17dca98c",
   "metadata": {},
   "outputs": [
    {
     "data": {
      "text/plain": [
       "Text(0.5, 1.0, 'Usage of the 3 Stations over time')"
      ]
     },
     "execution_count": 22,
     "metadata": {},
     "output_type": "execute_result"
    },
    {
     "data": {
      "image/png": "[encoded data removed]",
      "text/plain": [
       "<Figure size 432x288 with 1 Axes>"
      ]
     },
     "metadata": {
      "needs_background": "light"
     },
     "output_type": "display_data"
    }
   ],
   "source": [
    "plt.figure()\n",
    "plt.title(f'Bike Usage 2018-21')\n",
    "plt.plot(time, usage,'k')\n",
    "plt.xlabel('Hours of the day')\n",
    "plt.ylabel('Bike Usage')\n",
    "plt.title(f'Usage of the 3 Stations over time')"
   ]
  }
 ],
 "metadata": {
  "kernelspec": {
   "display_name": "Python 3 (ipykernel)",
   "language": "python",
   "name": "python3"
  },
  "language_info": {
   "codemirror_mode": {
    "name": "ipython",
    "version": 3
   },
   "file_extension": ".py",
   "mimetype": "text/x-python",
   "name": "python",
   "nbconvert_exporter": "python",
   "pygments_lexer": "ipython3",
   "version": "3.9.12"
  }
 },
 "nbformat": 4,
 "nbformat_minor": 5
}
